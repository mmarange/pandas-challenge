{
 "cells": [
  {
   "cell_type": "markdown",
   "metadata": {},
   "source": [
    "# Note\n",
    "* Instructions have been included for each segment. You do not have to follow them exactly, but they are included to help you think through the steps."
   ]
  },
  {
   "cell_type": "code",
   "execution_count": 1,
   "metadata": {},
   "outputs": [
    {
     "data": {
      "text/html": [
       "<div>\n",
       "<style scoped>\n",
       "    .dataframe tbody tr th:only-of-type {\n",
       "        vertical-align: middle;\n",
       "    }\n",
       "\n",
       "    .dataframe tbody tr th {\n",
       "        vertical-align: top;\n",
       "    }\n",
       "\n",
       "    .dataframe thead th {\n",
       "        text-align: right;\n",
       "    }\n",
       "</style>\n",
       "<table border=\"1\" class=\"dataframe\">\n",
       "  <thead>\n",
       "    <tr style=\"text-align: right;\">\n",
       "      <th></th>\n",
       "      <th>Purchase ID</th>\n",
       "      <th>SN</th>\n",
       "      <th>Age</th>\n",
       "      <th>Gender</th>\n",
       "      <th>Item ID</th>\n",
       "      <th>Item Name</th>\n",
       "      <th>Price</th>\n",
       "    </tr>\n",
       "  </thead>\n",
       "  <tbody>\n",
       "    <tr>\n",
       "      <th>0</th>\n",
       "      <td>0</td>\n",
       "      <td>Lisim78</td>\n",
       "      <td>20</td>\n",
       "      <td>Male</td>\n",
       "      <td>108</td>\n",
       "      <td>Extraction, Quickblade Of Trembling Hands</td>\n",
       "      <td>3.53</td>\n",
       "    </tr>\n",
       "    <tr>\n",
       "      <th>1</th>\n",
       "      <td>1</td>\n",
       "      <td>Lisovynya38</td>\n",
       "      <td>40</td>\n",
       "      <td>Male</td>\n",
       "      <td>143</td>\n",
       "      <td>Frenzied Scimitar</td>\n",
       "      <td>1.56</td>\n",
       "    </tr>\n",
       "    <tr>\n",
       "      <th>2</th>\n",
       "      <td>2</td>\n",
       "      <td>Ithergue48</td>\n",
       "      <td>24</td>\n",
       "      <td>Male</td>\n",
       "      <td>92</td>\n",
       "      <td>Final Critic</td>\n",
       "      <td>4.88</td>\n",
       "    </tr>\n",
       "    <tr>\n",
       "      <th>3</th>\n",
       "      <td>3</td>\n",
       "      <td>Chamassasya86</td>\n",
       "      <td>24</td>\n",
       "      <td>Male</td>\n",
       "      <td>100</td>\n",
       "      <td>Blindscythe</td>\n",
       "      <td>3.27</td>\n",
       "    </tr>\n",
       "    <tr>\n",
       "      <th>4</th>\n",
       "      <td>4</td>\n",
       "      <td>Iskosia90</td>\n",
       "      <td>23</td>\n",
       "      <td>Male</td>\n",
       "      <td>131</td>\n",
       "      <td>Fury</td>\n",
       "      <td>1.44</td>\n",
       "    </tr>\n",
       "    <tr>\n",
       "      <th>...</th>\n",
       "      <td>...</td>\n",
       "      <td>...</td>\n",
       "      <td>...</td>\n",
       "      <td>...</td>\n",
       "      <td>...</td>\n",
       "      <td>...</td>\n",
       "      <td>...</td>\n",
       "    </tr>\n",
       "    <tr>\n",
       "      <th>95</th>\n",
       "      <td>95</td>\n",
       "      <td>Ilassast39</td>\n",
       "      <td>18</td>\n",
       "      <td>Male</td>\n",
       "      <td>164</td>\n",
       "      <td>Exiled Doomblade</td>\n",
       "      <td>1.63</td>\n",
       "    </tr>\n",
       "    <tr>\n",
       "      <th>96</th>\n",
       "      <td>96</td>\n",
       "      <td>Lisassala98</td>\n",
       "      <td>16</td>\n",
       "      <td>Male</td>\n",
       "      <td>56</td>\n",
       "      <td>Foul Titanium Battle Axe</td>\n",
       "      <td>2.92</td>\n",
       "    </tr>\n",
       "    <tr>\n",
       "      <th>97</th>\n",
       "      <td>97</td>\n",
       "      <td>Aiduecal76</td>\n",
       "      <td>20</td>\n",
       "      <td>Male</td>\n",
       "      <td>134</td>\n",
       "      <td>Undead Crusader</td>\n",
       "      <td>4.50</td>\n",
       "    </tr>\n",
       "    <tr>\n",
       "      <th>98</th>\n",
       "      <td>98</td>\n",
       "      <td>Chadossa89</td>\n",
       "      <td>23</td>\n",
       "      <td>Male</td>\n",
       "      <td>132</td>\n",
       "      <td>Persuasion</td>\n",
       "      <td>3.19</td>\n",
       "    </tr>\n",
       "    <tr>\n",
       "      <th>99</th>\n",
       "      <td>99</td>\n",
       "      <td>Haisrisuir60</td>\n",
       "      <td>23</td>\n",
       "      <td>Male</td>\n",
       "      <td>92</td>\n",
       "      <td>Final Critic</td>\n",
       "      <td>4.19</td>\n",
       "    </tr>\n",
       "  </tbody>\n",
       "</table>\n",
       "<p>100 rows × 7 columns</p>\n",
       "</div>"
      ],
      "text/plain": [
       "    Purchase ID             SN  Age Gender  Item ID  \\\n",
       "0             0        Lisim78   20   Male      108   \n",
       "1             1    Lisovynya38   40   Male      143   \n",
       "2             2     Ithergue48   24   Male       92   \n",
       "3             3  Chamassasya86   24   Male      100   \n",
       "4             4      Iskosia90   23   Male      131   \n",
       "..          ...            ...  ...    ...      ...   \n",
       "95           95     Ilassast39   18   Male      164   \n",
       "96           96    Lisassala98   16   Male       56   \n",
       "97           97     Aiduecal76   20   Male      134   \n",
       "98           98     Chadossa89   23   Male      132   \n",
       "99           99   Haisrisuir60   23   Male       92   \n",
       "\n",
       "                                    Item Name  Price  \n",
       "0   Extraction, Quickblade Of Trembling Hands   3.53  \n",
       "1                           Frenzied Scimitar   1.56  \n",
       "2                                Final Critic   4.88  \n",
       "3                                 Blindscythe   3.27  \n",
       "4                                        Fury   1.44  \n",
       "..                                        ...    ...  \n",
       "95                           Exiled Doomblade   1.63  \n",
       "96                   Foul Titanium Battle Axe   2.92  \n",
       "97                            Undead Crusader   4.50  \n",
       "98                                 Persuasion   3.19  \n",
       "99                               Final Critic   4.19  \n",
       "\n",
       "[100 rows x 7 columns]"
      ]
     },
     "execution_count": 1,
     "metadata": {},
     "output_type": "execute_result"
    }
   ],
   "source": [
    "# Dependencies and Setup\n",
    "import pandas as pd\n",
    "\n",
    "# File to Load (Remember to Change These)\n",
    "file_to_load = \"Resources/purchase_data.csv\"\n",
    "\n",
    "# Read Purchasing File and store into Pandas data frame\n",
    "purchase_data = pd.read_csv(file_to_load)\n",
    "purchase_data.head(100)"
   ]
  },
  {
   "cell_type": "code",
   "execution_count": 115,
   "metadata": {},
   "outputs": [],
   "source": [
    "## Player Count"
   ]
  },
  {
   "cell_type": "markdown",
   "metadata": {},
   "source": [
    "* Display the total number of players\n"
   ]
  },
  {
   "cell_type": "code",
   "execution_count": 116,
   "metadata": {},
   "outputs": [
    {
     "name": "stdout",
     "output_type": "stream",
     "text": [
      "Total number of players: 780\n",
      "Unique number of players: 576\n"
     ]
    }
   ],
   "source": [
    "total_players = purchase_data[\"SN\"].count()\n",
    "unique_players = purchase_data[\"SN\"].nunique()\n",
    "print(f'Total number of players: {total_players}')\n",
    "print(f'Unique number of players: {unique_players}')"
   ]
  },
  {
   "cell_type": "markdown",
   "metadata": {},
   "source": [
    "## Purchasing Analysis (Total)"
   ]
  },
  {
   "cell_type": "markdown",
   "metadata": {},
   "source": [
    "* Run basic calculations to obtain number of unique items, average price, etc.\n",
    "\n",
    "\n",
    "* Create a summary data frame to hold the results\n",
    "\n",
    "\n",
    "* Optional: give the displayed data cleaner formatting\n",
    "\n",
    "\n",
    "* Display the summary data frame\n"
   ]
  },
  {
   "cell_type": "code",
   "execution_count": 83,
   "metadata": {
    "scrolled": false
   },
   "outputs": [
    {
     "data": {
      "text/html": [
       "<div>\n",
       "<style scoped>\n",
       "    .dataframe tbody tr th:only-of-type {\n",
       "        vertical-align: middle;\n",
       "    }\n",
       "\n",
       "    .dataframe tbody tr th {\n",
       "        vertical-align: top;\n",
       "    }\n",
       "\n",
       "    .dataframe thead th {\n",
       "        text-align: right;\n",
       "    }\n",
       "</style>\n",
       "<table border=\"1\" class=\"dataframe\">\n",
       "  <thead>\n",
       "    <tr style=\"text-align: right;\">\n",
       "      <th></th>\n",
       "      <th>Number of Players</th>\n",
       "      <th>Number of Unique Players</th>\n",
       "      <th>Number of Purchases</th>\n",
       "      <th>Average Purchase Price</th>\n",
       "      <th>Total Revenue</th>\n",
       "    </tr>\n",
       "  </thead>\n",
       "  <tbody>\n",
       "    <tr>\n",
       "      <th>0</th>\n",
       "      <td>780</td>\n",
       "      <td>576</td>\n",
       "      <td>780</td>\n",
       "      <td>3.050987</td>\n",
       "      <td>2379.77</td>\n",
       "    </tr>\n",
       "  </tbody>\n",
       "</table>\n",
       "</div>"
      ],
      "text/plain": [
       "   Number of Players  Number of Unique Players  Number of Purchases  \\\n",
       "0                780                       576                  780   \n",
       "\n",
       "   Average Purchase Price  Total Revenue  \n",
       "0                3.050987        2379.77  "
      ]
     },
     "execution_count": 83,
     "metadata": {},
     "output_type": "execute_result"
    }
   ],
   "source": [
    "total_revenue = purchase_data[\"Price\"].sum()\n",
    "number_purchases = purchase_data[\"Price\"].count()\n",
    "average_purchase = total_revenue.sum()/total_players\n",
    "\n",
    "purchase_analysis = pd.DataFrame({\"Number of Players\":[total_players], \"Number of Unique Players\": [unique_players],\\\n",
    "                                 \"Number of Purchases\": [number_purchases], \"Average Purchase Price\":[average_purchase],\\\n",
    "                                 \"Total Revenue\": [total_revenue]})\n",
    "purchase_analysis\n"
   ]
  },
  {
   "cell_type": "markdown",
   "metadata": {},
   "source": [
    "## Gender Demographics"
   ]
  },
  {
   "cell_type": "markdown",
   "metadata": {},
   "source": [
    "* Percentage and Count of Male Players\n",
    "\n",
    "\n",
    "* Percentage and Count of Female Players\n",
    "\n",
    "\n",
    "* Percentage and Count of Other / Non-Disclosed\n",
    "\n",
    "\n"
   ]
  },
  {
   "cell_type": "code",
   "execution_count": 125,
   "metadata": {},
   "outputs": [
    {
     "name": "stdout",
     "output_type": "stream",
     "text": [
      "Male counts: 144\n",
      "13.664166666666667\n",
      "3.0178527607361967\n"
     ]
    }
   ],
   "source": [
    "#Percentage and Count of Male Players\n",
    "male_count = purchase_data[\"Gender\"].loc[purchase_data[\"Gender\"] == \"Male\"].count()\n",
    "male_percent = male_count/total_players * 100\n",
    "\n",
    "#Run basic calculations to obtain purchase count, avg. purchase price, avg. purchase total per person etc for males\n",
    "male_purchase_value = purchase_data[\"Price\"].loc[purchase_data[\"Gender\"] == \"Male\"].sum()\n",
    "male_avg_purchase_price = male_purchase_value/male_count\n",
    "male_unique = purchase_data[\"Price\"].loc[purchase_data[\"Gender\"] == \"Male\"].nunique()\n",
    "male_avg_purchase_pp = male_purchase_value/male_unique\n",
    "\n",
    "print(f'Male counts: {male_unique}')\n",
    "print(male_avg_purchase_pp)\n",
    "print(male_avg_purchase_price)"
   ]
  },
  {
   "cell_type": "code",
   "execution_count": 123,
   "metadata": {},
   "outputs": [
    {
     "name": "stdout",
     "output_type": "stream",
     "text": [
      "female counts: 113\n",
      "4.581518987341772\n",
      "3.203008849557522\n"
     ]
    }
   ],
   "source": [
    "#Percentage and Count of Male Players\n",
    "female_count = purchase_data[\"Gender\"].loc[purchase_data[\"Gender\"] == \"Female\"].count()\n",
    "female_percent = female_count/total_players * 100\n",
    "\n",
    "#Run basic calculations to obtain purchase count, avg. purchase price, avg. purchase total per person etc for females\n",
    "female_purchase_value = purchase_data[\"Price\"].loc[purchase_data[\"Gender\"] == \"Female\"].sum()\n",
    "female_avg_purchase_price = female_purchase_value/female_count\n",
    "female_unique = purchase_data[\"Price\"].loc[purchase_data[\"Gender\"] == \"Female\"].nunique()\n",
    "female_avg_purchase_pp = female_purchase_value/female_unique\n",
    "\n",
    "print(f'female counts: {female_count}')\n",
    "print(female_avg_purchase_pp)\n",
    "print(female_avg_purchase_price)\n"
   ]
  },
  {
   "cell_type": "code",
   "execution_count": 127,
   "metadata": {},
   "outputs": [
    {
     "name": "stdout",
     "output_type": "stream",
     "text": [
      "4.1825\n",
      "3.3459999999999996\n"
     ]
    }
   ],
   "source": [
    "#Percentage and Count of Male Players\n",
    "other_count = purchase_data[\"Gender\"].loc[(purchase_data[\"Gender\"] != \"Female\") & (purchase_data[\"Gender\"] != \"Male\")].count()\n",
    "other_percent = other_count/total_players * 100\n",
    "\n",
    "#Run basic calculations to obtain purchase count, avg. purchase price, avg. purchase total per person etc for females\n",
    "other_purchase_value = purchase_data[\"Price\"].loc[(purchase_data[\"Gender\"] != \"Female\")\\\n",
    "                                                  & (purchase_data[\"Gender\"] != \"Male\")].sum()\n",
    "other_unique = purchase_data[\"Price\"].loc[(purchase_data[\"Gender\"] != \"Female\")\\\n",
    "                                                  & (purchase_data[\"Gender\"] != \"Male\")].nunique()\n",
    "other_avg_purchase_price = other_purchase_value/other_count\n",
    "other_avg_purchase_pp = other_purchase_value/other_unique\n",
    "\n",
    "print(other_avg_purchase_pp)\n",
    "print(other_avg_purchase_price)"
   ]
  },
  {
   "cell_type": "code",
   "execution_count": 128,
   "metadata": {},
   "outputs": [
    {
     "data": {
      "text/html": [
       "<div>\n",
       "<style scoped>\n",
       "    .dataframe tbody tr th:only-of-type {\n",
       "        vertical-align: middle;\n",
       "    }\n",
       "\n",
       "    .dataframe tbody tr th {\n",
       "        vertical-align: top;\n",
       "    }\n",
       "\n",
       "    .dataframe thead th {\n",
       "        text-align: right;\n",
       "    }\n",
       "</style>\n",
       "<table border=\"1\" class=\"dataframe\">\n",
       "  <thead>\n",
       "    <tr style=\"text-align: right;\">\n",
       "      <th></th>\n",
       "      <th>Total Count</th>\n",
       "      <th>Percentage of Players</th>\n",
       "    </tr>\n",
       "  </thead>\n",
       "  <tbody>\n",
       "    <tr>\n",
       "      <th>Male</th>\n",
       "      <td>652</td>\n",
       "      <td>83.589744</td>\n",
       "    </tr>\n",
       "    <tr>\n",
       "      <th>Female</th>\n",
       "      <td>113</td>\n",
       "      <td>14.487179</td>\n",
       "    </tr>\n",
       "    <tr>\n",
       "      <th>Other/Non-Disclosured</th>\n",
       "      <td>15</td>\n",
       "      <td>1.923077</td>\n",
       "    </tr>\n",
       "  </tbody>\n",
       "</table>\n",
       "</div>"
      ],
      "text/plain": [
       "                       Total Count  Percentage of Players\n",
       "Male                           652              83.589744\n",
       "Female                         113              14.487179\n",
       "Other/Non-Disclosured           15               1.923077"
      ]
     },
     "execution_count": 128,
     "metadata": {},
     "output_type": "execute_result"
    }
   ],
   "source": [
    "gender_demo = pd.DataFrame({\"Total Count\": [male_count, female_count, other_count],\\\n",
    "                           \"Percentage of Players\": [male_percent, female_percent, other_percent]},\\\n",
    "                           index=[\"Male\",\"Female\",\"Other/Non-Disclosured\"])\n",
    "gender_demo"
   ]
  },
  {
   "cell_type": "markdown",
   "metadata": {},
   "source": [
    "\n",
    "## Purchasing Analysis (Gender)"
   ]
  },
  {
   "cell_type": "markdown",
   "metadata": {},
   "source": [
    "* Run basic calculations to obtain purchase count, avg. purchase price, avg. purchase total per person etc. by gender\n",
    "\n",
    "\n",
    "\n",
    "\n",
    "* Create a summary data frame to hold the results\n",
    "\n",
    "\n",
    "* Optional: give the displayed data cleaner formatting\n",
    "\n",
    "\n",
    "* Display the summary data frame"
   ]
  },
  {
   "cell_type": "code",
   "execution_count": 129,
   "metadata": {},
   "outputs": [],
   "source": [
    "#Other statistical calculations\n",
    "total_purchase_f = purchase_data[\"Price\"].loc[purchase_data[\"Gender\"] == \"Female\"].sum()\n",
    "total_purchase_m = purchase_data[\"Price\"].loc[purchase_data[\"Gender\"] == \"Male\"].describe()\n",
    "total_purchase_o = purchase_data[\"Price\"].loc[(purchase_data[\"Gender\"] == \"Male\") &\\\n",
    "                                              (purchase_data[\"Gender\"] != \"Female\")].describe()"
   ]
  },
  {
   "cell_type": "code",
   "execution_count": 135,
   "metadata": {},
   "outputs": [
    {
     "data": {
      "text/html": [
       "<div>\n",
       "<style scoped>\n",
       "    .dataframe tbody tr th:only-of-type {\n",
       "        vertical-align: middle;\n",
       "    }\n",
       "\n",
       "    .dataframe tbody tr th {\n",
       "        vertical-align: top;\n",
       "    }\n",
       "\n",
       "    .dataframe thead th {\n",
       "        text-align: right;\n",
       "    }\n",
       "</style>\n",
       "<table border=\"1\" class=\"dataframe\">\n",
       "  <thead>\n",
       "    <tr style=\"text-align: right;\">\n",
       "      <th></th>\n",
       "      <th>Purchase Count</th>\n",
       "      <th>Unique Purchase Count</th>\n",
       "      <th>Average Purchase Price</th>\n",
       "      <th>Total Purchase Value</th>\n",
       "      <th>Avg Total Purchase per Person</th>\n",
       "    </tr>\n",
       "  </thead>\n",
       "  <tbody>\n",
       "    <tr>\n",
       "      <th>Female</th>\n",
       "      <td>113</td>\n",
       "      <td>79</td>\n",
       "      <td>3.203009</td>\n",
       "      <td>3.203009</td>\n",
       "      <td>4.581519</td>\n",
       "    </tr>\n",
       "    <tr>\n",
       "      <th>Male</th>\n",
       "      <td>652</td>\n",
       "      <td>144</td>\n",
       "      <td>3.017853</td>\n",
       "      <td>3.017853</td>\n",
       "      <td>13.664167</td>\n",
       "    </tr>\n",
       "    <tr>\n",
       "      <th>Other/Non-Disclosured</th>\n",
       "      <td>15</td>\n",
       "      <td>12</td>\n",
       "      <td>3.346000</td>\n",
       "      <td>3.346000</td>\n",
       "      <td>4.182500</td>\n",
       "    </tr>\n",
       "  </tbody>\n",
       "</table>\n",
       "</div>"
      ],
      "text/plain": [
       "                       Purchase Count  Unique Purchase Count  \\\n",
       "Female                            113                     79   \n",
       "Male                              652                    144   \n",
       "Other/Non-Disclosured              15                     12   \n",
       "\n",
       "                       Average Purchase Price  Total Purchase Value  \\\n",
       "Female                               3.203009              3.203009   \n",
       "Male                                 3.017853              3.017853   \n",
       "Other/Non-Disclosured                3.346000              3.346000   \n",
       "\n",
       "                       Avg Total Purchase per Person  \n",
       "Female                                      4.581519  \n",
       "Male                                       13.664167  \n",
       "Other/Non-Disclosured                       4.182500  "
      ]
     },
     "execution_count": 135,
     "metadata": {},
     "output_type": "execute_result"
    }
   ],
   "source": [
    "purchasing_analysis = pd.DataFrame({\"Purchase Count\":[female_count, male_count, other_count],\\\n",
    "                                    \"Unique Purchase Count\": [female_unique, male_unique, other_unique],\\\n",
    "                                   \"Average Purchase Price\":[female_avg_purchase_price, male_avg_purchase_price, other_avg_purchase_price],\\\n",
    "                                   \"Total Purchase Value\":[female_avg_purchase_price, male_avg_purchase_price, other_avg_purchase_price],\\\n",
    "                                   \"Avg Total Purchase per Person\":[female_avg_purchase_pp, male_avg_purchase_pp, other_avg_purchase_pp]},\\\n",
    "                                   index=[\"Female\",\"Male\",\"Other/Non-Disclosured\"])\n",
    "purchasing_analysis"
   ]
  },
  {
   "cell_type": "markdown",
   "metadata": {},
   "source": [
    "## Age Demographics"
   ]
  },
  {
   "cell_type": "markdown",
   "metadata": {},
   "source": [
    "* Establish bins for ages\n",
    "\n",
    "\n",
    "* Categorize the existing players using the age bins. Hint: use pd.cut()\n",
    "\n",
    "\n",
    "* Calculate the numbers and percentages by age group\n",
    "\n",
    "\n",
    "* Create a summary data frame to hold the results\n",
    "\n",
    "\n",
    "* Optional: round the percentage column to two decimal points\n",
    "\n",
    "\n",
    "* Display Age Demographics Table\n"
   ]
  },
  {
   "cell_type": "code",
   "execution_count": 198,
   "metadata": {},
   "outputs": [
    {
     "name": "stdout",
     "output_type": "stream",
     "text": [
      "<pandas.core.groupby.generic.DataFrameGroupBy object at 0x00000269013D8610>\n"
     ]
    },
    {
     "data": {
      "text/html": [
       "<div>\n",
       "<style scoped>\n",
       "    .dataframe tbody tr th:only-of-type {\n",
       "        vertical-align: middle;\n",
       "    }\n",
       "\n",
       "    .dataframe tbody tr th {\n",
       "        vertical-align: top;\n",
       "    }\n",
       "\n",
       "    .dataframe thead th {\n",
       "        text-align: right;\n",
       "    }\n",
       "</style>\n",
       "<table border=\"1\" class=\"dataframe\">\n",
       "  <thead>\n",
       "    <tr style=\"text-align: right;\">\n",
       "      <th></th>\n",
       "      <th>Total Count</th>\n",
       "      <th>Percentage of Players</th>\n",
       "    </tr>\n",
       "    <tr>\n",
       "      <th>Age Groups</th>\n",
       "      <th></th>\n",
       "      <th></th>\n",
       "    </tr>\n",
       "  </thead>\n",
       "  <tbody>\n",
       "    <tr>\n",
       "      <th>4 to 8 years</th>\n",
       "      <td>17</td>\n",
       "      <td>2.179487</td>\n",
       "    </tr>\n",
       "    <tr>\n",
       "      <th>8 to 12 years</th>\n",
       "      <td>28</td>\n",
       "      <td>3.589744</td>\n",
       "    </tr>\n",
       "    <tr>\n",
       "      <th>12 to 16 years</th>\n",
       "      <td>71</td>\n",
       "      <td>9.102564</td>\n",
       "    </tr>\n",
       "    <tr>\n",
       "      <th>16 to 20 years</th>\n",
       "      <td>170</td>\n",
       "      <td>21.794872</td>\n",
       "    </tr>\n",
       "    <tr>\n",
       "      <th>20 to 24 years</th>\n",
       "      <td>266</td>\n",
       "      <td>34.102564</td>\n",
       "    </tr>\n",
       "    <tr>\n",
       "      <th>24 to 28 years</th>\n",
       "      <td>88</td>\n",
       "      <td>11.282051</td>\n",
       "    </tr>\n",
       "    <tr>\n",
       "      <th>28 to 32 years</th>\n",
       "      <td>63</td>\n",
       "      <td>8.076923</td>\n",
       "    </tr>\n",
       "    <tr>\n",
       "      <th>32 to 36 years</th>\n",
       "      <td>42</td>\n",
       "      <td>5.384615</td>\n",
       "    </tr>\n",
       "    <tr>\n",
       "      <th>36 to 40 years</th>\n",
       "      <td>28</td>\n",
       "      <td>3.589744</td>\n",
       "    </tr>\n",
       "    <tr>\n",
       "      <th>40 to 44 years</th>\n",
       "      <td>6</td>\n",
       "      <td>0.769231</td>\n",
       "    </tr>\n",
       "    <tr>\n",
       "      <th>44 to 48 years</th>\n",
       "      <td>1</td>\n",
       "      <td>0.128205</td>\n",
       "    </tr>\n",
       "  </tbody>\n",
       "</table>\n",
       "</div>"
      ],
      "text/plain": [
       "                Total Count  Percentage of Players\n",
       "Age Groups                                        \n",
       "4 to 8 years             17               2.179487\n",
       "8 to 12 years            28               3.589744\n",
       "12 to 16 years           71               9.102564\n",
       "16 to 20 years          170              21.794872\n",
       "20 to 24 years          266              34.102564\n",
       "24 to 28 years           88              11.282051\n",
       "28 to 32 years           63               8.076923\n",
       "32 to 36 years           42               5.384615\n",
       "36 to 40 years           28               3.589744\n",
       "40 to 44 years            6               0.769231\n",
       "44 to 48 years            1               0.128205"
      ]
     },
     "execution_count": 198,
     "metadata": {},
     "output_type": "execute_result"
    }
   ],
   "source": [
    "# Find group range and create age groups\n",
    "# SPORT OUT FORMATTING, AND BIN BOUNDARIES\n",
    "x = purchase_data[\"Age\"].min()\n",
    "y = purchase_data[\"Age\"].max()\n",
    "#print(x, y)\n",
    "\n",
    "z = range(4,50, 4)\n",
    "bins = [bins for bins in z]\n",
    "labels =['4 to 8 years', '8 to 12 years', '12 to 16 years', '16 to 20 years', '20 to 24 years',\\\n",
    "        '24 to 28 years', '28 to 32 years', '32 to 36 years', '36 to 40 years', '40 to 44 years', '44 to 48 years']\n",
    "\n",
    "pd.cut(purchase_data[\"Age\"], bins, labels=labels).head()\n",
    "purchase_data[\"Age Groups\"] = pd.cut(purchase_data[\"Age\"], bins, labels=labels)\n",
    "\n",
    "age_group = purchase_data.groupby(\"Age Groups\")\n",
    "age_count = age_group[\"Age groups\"].count()\n",
    "age_percent = age_count/total_players * 100\n",
    "age_analysis = pd.DataFrame({\"Total Count\":age_count, \"Percentage of Players\": age_percent})\n",
    "print(age_group)\n",
    "#age_percent\n",
    "age_analysis"
   ]
  },
  {
   "cell_type": "markdown",
   "metadata": {},
   "source": [
    "## Purchasing Analysis (Age)"
   ]
  },
  {
   "cell_type": "markdown",
   "metadata": {},
   "source": [
    "* Bin the purchase_data data frame by age\n",
    "\n",
    "\n",
    "* Run basic calculations to obtain purchase count, avg. purchase price, avg. purchase total per person etc. in the table below\n",
    "\n",
    "\n",
    "* Create a summary data frame to hold the results\n",
    "\n",
    "\n",
    "* Optional: give the displayed data cleaner formatting\n",
    "\n",
    "\n",
    "* Display the summary data frame"
   ]
  },
  {
   "cell_type": "code",
   "execution_count": 209,
   "metadata": {},
   "outputs": [
    {
     "data": {
      "text/html": [
       "<div>\n",
       "<style scoped>\n",
       "    .dataframe tbody tr th:only-of-type {\n",
       "        vertical-align: middle;\n",
       "    }\n",
       "\n",
       "    .dataframe tbody tr th {\n",
       "        vertical-align: top;\n",
       "    }\n",
       "\n",
       "    .dataframe thead th {\n",
       "        text-align: right;\n",
       "    }\n",
       "</style>\n",
       "<table border=\"1\" class=\"dataframe\">\n",
       "  <thead>\n",
       "    <tr style=\"text-align: right;\">\n",
       "      <th></th>\n",
       "      <th>Purchase Count</th>\n",
       "      <th>Average Purchase Price</th>\n",
       "      <th>Total Purchase Price</th>\n",
       "      <th>Ave Total Purchase per Person</th>\n",
       "    </tr>\n",
       "    <tr>\n",
       "      <th>Age Groups</th>\n",
       "      <th></th>\n",
       "      <th></th>\n",
       "      <th></th>\n",
       "      <th></th>\n",
       "    </tr>\n",
       "  </thead>\n",
       "  <tbody>\n",
       "    <tr>\n",
       "      <th>4 to 8 years</th>\n",
       "      <td>17</td>\n",
       "      <td>3.462353</td>\n",
       "      <td>58.86</td>\n",
       "      <td>3.462353</td>\n",
       "    </tr>\n",
       "    <tr>\n",
       "      <th>8 to 12 years</th>\n",
       "      <td>28</td>\n",
       "      <td>3.024643</td>\n",
       "      <td>84.69</td>\n",
       "      <td>3.528750</td>\n",
       "    </tr>\n",
       "    <tr>\n",
       "      <th>12 to 16 years</th>\n",
       "      <td>71</td>\n",
       "      <td>2.993944</td>\n",
       "      <td>212.57</td>\n",
       "      <td>4.010755</td>\n",
       "    </tr>\n",
       "    <tr>\n",
       "      <th>16 to 20 years</th>\n",
       "      <td>170</td>\n",
       "      <td>3.123529</td>\n",
       "      <td>531.00</td>\n",
       "      <td>5.531250</td>\n",
       "    </tr>\n",
       "    <tr>\n",
       "      <th>20 to 24 years</th>\n",
       "      <td>266</td>\n",
       "      <td>3.006541</td>\n",
       "      <td>799.74</td>\n",
       "      <td>6.664500</td>\n",
       "    </tr>\n",
       "    <tr>\n",
       "      <th>24 to 28 years</th>\n",
       "      <td>88</td>\n",
       "      <td>2.929205</td>\n",
       "      <td>257.77</td>\n",
       "      <td>3.905606</td>\n",
       "    </tr>\n",
       "    <tr>\n",
       "      <th>28 to 32 years</th>\n",
       "      <td>63</td>\n",
       "      <td>3.052222</td>\n",
       "      <td>192.29</td>\n",
       "      <td>3.628113</td>\n",
       "    </tr>\n",
       "    <tr>\n",
       "      <th>32 to 36 years</th>\n",
       "      <td>42</td>\n",
       "      <td>2.895952</td>\n",
       "      <td>121.63</td>\n",
       "      <td>3.475143</td>\n",
       "    </tr>\n",
       "    <tr>\n",
       "      <th>36 to 40 years</th>\n",
       "      <td>28</td>\n",
       "      <td>3.560357</td>\n",
       "      <td>99.69</td>\n",
       "      <td>4.153750</td>\n",
       "    </tr>\n",
       "    <tr>\n",
       "      <th>40 to 44 years</th>\n",
       "      <td>6</td>\n",
       "      <td>3.305000</td>\n",
       "      <td>19.83</td>\n",
       "      <td>3.305000</td>\n",
       "    </tr>\n",
       "    <tr>\n",
       "      <th>44 to 48 years</th>\n",
       "      <td>1</td>\n",
       "      <td>1.700000</td>\n",
       "      <td>1.70</td>\n",
       "      <td>1.700000</td>\n",
       "    </tr>\n",
       "  </tbody>\n",
       "</table>\n",
       "</div>"
      ],
      "text/plain": [
       "                Purchase Count  Average Purchase Price  Total Purchase Price  \\\n",
       "Age Groups                                                                     \n",
       "4 to 8 years                17                3.462353                 58.86   \n",
       "8 to 12 years               28                3.024643                 84.69   \n",
       "12 to 16 years              71                2.993944                212.57   \n",
       "16 to 20 years             170                3.123529                531.00   \n",
       "20 to 24 years             266                3.006541                799.74   \n",
       "24 to 28 years              88                2.929205                257.77   \n",
       "28 to 32 years              63                3.052222                192.29   \n",
       "32 to 36 years              42                2.895952                121.63   \n",
       "36 to 40 years              28                3.560357                 99.69   \n",
       "40 to 44 years               6                3.305000                 19.83   \n",
       "44 to 48 years               1                1.700000                  1.70   \n",
       "\n",
       "                Ave Total Purchase per Person  \n",
       "Age Groups                                     \n",
       "4 to 8 years                         3.462353  \n",
       "8 to 12 years                        3.528750  \n",
       "12 to 16 years                       4.010755  \n",
       "16 to 20 years                       5.531250  \n",
       "20 to 24 years                       6.664500  \n",
       "24 to 28 years                       3.905606  \n",
       "28 to 32 years                       3.628113  \n",
       "32 to 36 years                       3.475143  \n",
       "36 to 40 years                       4.153750  \n",
       "40 to 44 years                       3.305000  \n",
       "44 to 48 years                       1.700000  "
      ]
     },
     "execution_count": 209,
     "metadata": {},
     "output_type": "execute_result"
    }
   ],
   "source": [
    "#purchase count, avg. purchase price, avg. purchase total per person\n",
    "age_purchase_value = age_group[\"Price\"].sum()\n",
    "age_unique = age_group[\"Price\"].nunique()\n",
    "age_purchase_mean = age_group[\"Price\"].mean()\n",
    "age_purchase_mean_pp = age_purchase_value / age_unique\n",
    "\n",
    "age_purchase_analysis = pd.DataFrame({\"Purchase Count\": age_count, \"Average Purchase Price\": age_purchase_mean, \"Total Purchase Price\": age_purchase_value, \"Ave Total Purchase per Person\":age_purchase_mean_pp})\n",
    "                                      \n",
    "age_purchase_analysis"
   ]
  },
  {
   "cell_type": "markdown",
   "metadata": {},
   "source": [
    "## Top Spenders"
   ]
  },
  {
   "cell_type": "markdown",
   "metadata": {},
   "source": [
    "* Run basic calculations to obtain the results in the table below\n",
    "\n",
    "\n",
    "* Create a summary data frame to hold the results\n",
    "\n",
    "\n",
    "* Sort the total purchase value column in descending order\n",
    "\n",
    "\n",
    "* Optional: give the displayed data cleaner formatting\n",
    "\n",
    "\n",
    "* Display a preview of the summary data frame\n",
    "\n"
   ]
  },
  {
   "cell_type": "code",
   "execution_count": 220,
   "metadata": {},
   "outputs": [
    {
     "data": {
      "text/plain": [
       "Lisosia93      5\n",
       "Idastidru52    4\n",
       "Iral74         4\n",
       "Iri67          3\n",
       "Tyisur83       3\n",
       "Name: SN, dtype: int64"
      ]
     },
     "execution_count": 220,
     "metadata": {},
     "output_type": "execute_result"
    }
   ],
   "source": [
    "pp_unique = purchase_data[\"SN\"].value_counts()\n",
    "\n",
    "#top_spenders = purchase_data.sort_values(\"Price\", ascending=False)\n",
    "pp_unique.head()"
   ]
  },
  {
   "cell_type": "markdown",
   "metadata": {},
   "source": [
    "## Most Popular Items"
   ]
  },
  {
   "cell_type": "markdown",
   "metadata": {},
   "source": [
    "* Retrieve the Item ID, Item Name, and Item Price columns\n",
    "\n",
    "\n",
    "* Group by Item ID and Item Name. Perform calculations to obtain purchase count, average item price, and total purchase value\n",
    "\n",
    "\n",
    "* Create a summary data frame to hold the results\n",
    "\n",
    "\n",
    "* Sort the purchase count column in descending order\n",
    "\n",
    "\n",
    "* Optional: give the displayed data cleaner formatting\n",
    "\n",
    "\n",
    "* Display a preview of the summary data frame\n",
    "\n"
   ]
  },
  {
   "cell_type": "code",
   "execution_count": null,
   "metadata": {},
   "outputs": [],
   "source": []
  },
  {
   "cell_type": "markdown",
   "metadata": {},
   "source": [
    "## Most Profitable Items"
   ]
  },
  {
   "cell_type": "markdown",
   "metadata": {},
   "source": [
    "* Sort the above table by total purchase value in descending order\n",
    "\n",
    "\n",
    "* Optional: give the displayed data cleaner formatting\n",
    "\n",
    "\n",
    "* Display a preview of the data frame\n",
    "\n"
   ]
  },
  {
   "cell_type": "code",
   "execution_count": null,
   "metadata": {
    "scrolled": true
   },
   "outputs": [],
   "source": []
  }
 ],
 "metadata": {
  "anaconda-cloud": {},
  "kernel_info": {
   "name": "python3"
  },
  "kernelspec": {
   "display_name": "Python 3",
   "language": "python",
   "name": "python3"
  },
  "language_info": {
   "codemirror_mode": {
    "name": "ipython",
    "version": 3
   },
   "file_extension": ".py",
   "mimetype": "text/x-python",
   "name": "python",
   "nbconvert_exporter": "python",
   "pygments_lexer": "ipython3",
   "version": "3.8.3"
  },
  "latex_envs": {
   "LaTeX_envs_menu_present": true,
   "autoclose": false,
   "autocomplete": true,
   "bibliofile": "biblio.bib",
   "cite_by": "apalike",
   "current_citInitial": 1,
   "eqLabelWithNumbers": true,
   "eqNumInitial": 1,
   "hotkeys": {
    "equation": "Ctrl-E",
    "itemize": "Ctrl-I"
   },
   "labels_anchors": false,
   "latex_user_defs": false,
   "report_style_numbering": false,
   "user_envs_cfg": false
  },
  "nteract": {
   "version": "0.2.0"
  }
 },
 "nbformat": 4,
 "nbformat_minor": 2
}
